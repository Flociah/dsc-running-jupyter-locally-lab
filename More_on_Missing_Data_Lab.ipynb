{
  "cells": [
    {
      "cell_type": "markdown",
      "metadata": {
        "id": "view-in-github",
        "colab_type": "text"
      },
      "source": [
        "<a href=\"https://colab.research.google.com/github/Flociah/dsc-running-jupyter-locally-lab/blob/master/More_on_Missing_Data_Lab.ipynb\" target=\"_parent\"><img src=\"https://colab.research.google.com/assets/colab-badge.svg\" alt=\"Open In Colab\"/></a>"
      ]
    },
    {
      "cell_type": "markdown",
      "metadata": {
        "id": "FoAtD-Vj0HJm"
      },
      "source": [
        "# More on Missing Data - Lab\n",
        "\n",
        "## Introduction\n",
        "\n",
        "In this lab, you'll continue to practice techniques for dealing with missing data. Moreover, you'll observe the impact on distributions of your data produced by various techniques for dealing with missing data.\n",
        "\n",
        "## Objectives\n",
        "\n",
        "In this lab you will:\n",
        "\n",
        "- Evaluate and execute the best strategy for dealing with missing, duplicate, and erroneous values for a given dataset   \n",
        "- Determine how the distribution of data is affected by imputing values"
      ]
    },
    {
      "cell_type": "markdown",
      "metadata": {
        "id": "dtb03yLT0HJp"
      },
      "source": [
        "## Load the data\n",
        "\n",
        "To start, load the dataset `'titanic.csv'` using pandas."
      ]
    },
    {
      "cell_type": "code",
      "execution_count": 19,
      "metadata": {
        "id": "DVDbbxFh0HJq"
      },
      "outputs": [],
      "source": [
        "# Loading the dataset\n",
        "import pandas as pd\n",
        "df = pd.read_csv('titanic.csv')\n"
      ]
    },
    {
      "cell_type": "markdown",
      "metadata": {
        "id": "W9cJfVoU0HJr"
      },
      "source": [
        "Use the `.info()` method to quickly preview which features have missing data"
      ]
    },
    {
      "cell_type": "code",
      "execution_count": 20,
      "metadata": {
        "colab": {
          "base_uri": "https://localhost:8080/"
        },
        "id": "5epTMCW30HJr",
        "outputId": "8da09b92-4997-442d-e02c-2497b5cb033b"
      },
      "outputs": [
        {
          "output_type": "stream",
          "name": "stdout",
          "text": [
            "<class 'pandas.core.frame.DataFrame'>\n",
            "RangeIndex: 891 entries, 0 to 890\n",
            "Data columns (total 13 columns):\n",
            " #   Column       Non-Null Count  Dtype  \n",
            "---  ------       --------------  -----  \n",
            " 0   Unnamed: 0   891 non-null    int64  \n",
            " 1   PassengerId  891 non-null    int64  \n",
            " 2   Survived     891 non-null    int64  \n",
            " 3   Pclass       891 non-null    object \n",
            " 4   Name         891 non-null    object \n",
            " 5   Sex          891 non-null    object \n",
            " 6   Age          714 non-null    float64\n",
            " 7   SibSp        891 non-null    int64  \n",
            " 8   Parch        891 non-null    int64  \n",
            " 9   Ticket       891 non-null    object \n",
            " 10  Fare         891 non-null    float64\n",
            " 11  Cabin        204 non-null    object \n",
            " 12  Embarked     889 non-null    object \n",
            "dtypes: float64(2), int64(5), object(6)\n",
            "memory usage: 90.6+ KB\n"
          ]
        }
      ],
      "source": [
        "# previewing the features of missing dat\n",
        "df.info()\n"
      ]
    },
    {
      "cell_type": "markdown",
      "metadata": {
        "id": "5ZrmPSr80HJr"
      },
      "source": [
        "## Observe previous measures of centrality\n",
        "\n",
        "Let's look at the `'Age'` feature. Calculate the mean, median, and standard deviation of this feature. Then plot a histogram of the distribution."
      ]
    },
    {
      "cell_type": "code",
      "execution_count": 21,
      "metadata": {
        "colab": {
          "base_uri": "https://localhost:8080/"
        },
        "id": "xaCVAHvT0HJr",
        "outputId": "0453b71b-4457-4d6c-ca54-f0d6c378cb7c"
      },
      "outputs": [
        {
          "output_type": "stream",
          "name": "stdout",
          "text": [
            "mean 29.69911764705882\n",
            "median 28.0\n",
            "standard deviation 14.526497332334042\n"
          ]
        }
      ],
      "source": [
        "# Measures of central tendancy\n",
        "#Calculation of mean\n",
        "mean = df['Age'].mean()\n",
        "print('mean',mean)\n",
        "#Calculation of median\n",
        "median = df['Age'].median()\n",
        "print('median', median)\n",
        "#Calculation of standard deviation\n",
        "std = df['Age'].std()\n",
        "print('standard deviation', std)"
      ]
    },
    {
      "cell_type": "code",
      "source": [
        "# Plotting of a histogram\n",
        "import matplotlib.pyplot as plt\n",
        "plt.hist(df['Age'])\n",
        "plt.show()"
      ],
      "metadata": {
        "colab": {
          "base_uri": "https://localhost:8080/",
          "height": 430
        },
        "id": "OW5iIQl_3V5J",
        "outputId": "6f44f2c3-417b-4510-d2e0-28858a63b609"
      },
      "execution_count": 22,
      "outputs": [
        {
          "output_type": "display_data",
          "data": {
            "text/plain": [
              "<Figure size 640x480 with 1 Axes>"
            ],
            "image/png": "[encoded data removed]"
          },
          "metadata": {}
        }
      ]
    },
    {
      "cell_type": "markdown",
      "metadata": {
        "id": "wuR6X0pI0HJs"
      },
      "source": [
        "## Impute missing values using the mean\n",
        "\n",
        "Fill the missing `'Age'` values using the average age. (Don't overwrite the original data, as we will be comparing to other methods for dealing with the missing values.) Then recalculate the mean, median, and std and replot the histogram."
      ]
    },
    {
      "cell_type": "code",
      "execution_count": 29,
      "metadata": {
        "id": "1DRXFPAY0HJs"
      },
      "outputs": [],
      "source": [
        "# Filling the missing age values\n",
        "df['Age'] = df['Age'].fillna(df['Age'].mean())\n",
        "\n"
      ]
    },
    {
      "cell_type": "code",
      "source": [
        "#Calculating the statistical measures\n",
        "# Calculating the mean\n",
        "mean = df['Age'].mean()\n",
        "print('mean', mean)\n",
        "# Calculating the median\n",
        "median = df['Age'].median()\n",
        "print('median',median)\n",
        "# Calculating the standard deviation\n",
        "std = df['Age'].std()\n",
        "print('standard deviation',std)"
      ],
      "metadata": {
        "colab": {
          "base_uri": "https://localhost:8080/"
        },
        "id": "6zJwTQSV6MLf",
        "outputId": "6c436b44-8d53-490b-e7f2-f1410b263e06"
      },
      "execution_count": 30,
      "outputs": [
        {
          "output_type": "stream",
          "name": "stdout",
          "text": [
            "mean 29.69911764705882\n",
            "median 29.69911764705882\n",
            "standard deviation 13.002015226002882\n"
          ]
        }
      ]
    },
    {
      "cell_type": "code",
      "source": [
        "# Plotting of a histogram\n",
        "plt.hist(df['Age'])\n",
        "plt.show()"
      ],
      "metadata": {
        "colab": {
          "base_uri": "https://localhost:8080/",
          "height": 430
        },
        "id": "aHoWCYBt377N",
        "outputId": "4d315930-e6da-4577-90c0-99f8ffadf274"
      },
      "execution_count": 31,
      "outputs": [
        {
          "output_type": "display_data",
          "data": {
            "text/plain": [
              "<Figure size 640x480 with 1 Axes>"
            ],
            "image/png": "[encoded data removed]"
          },
          "metadata": {}
        }
      ]
    },
    {
      "cell_type": "markdown",
      "metadata": {
        "id": "x83g0BI_0HJs"
      },
      "source": [
        "### Commentary\n",
        "\n",
        "Note that the standard deviation dropped, the median was slightly raised and the distribution has a larger mass near the center."
      ]
    },
    {
      "cell_type": "markdown",
      "metadata": {
        "id": "6PqlNMrT0HJs"
      },
      "source": [
        "## Impute missing values using the median\n",
        "\n",
        "Fill the missing `'Age'` values, this time using the median age. (Again, don't overwrite the original data, as we will be comparing to other methods for dealing with the missing values.) Then recalculate the mean, median, and std and replot the histogram."
      ]
    },
    {
      "cell_type": "code",
      "execution_count": 32,
      "metadata": {
        "id": "YGXJlG1E0HJt"
      },
      "outputs": [],
      "source": [
        "# Imputing the missing value using median\n",
        "df['Age'] = df['Age'].fillna(df['Age'].median())\n"
      ]
    },
    {
      "cell_type": "code",
      "source": [
        "# Calculation of the statistical measures\n",
        "# Calculating the mean\n",
        "mean = df['Age'].mean()\n",
        "print(f'mean',mean)\n",
        "# Calculating the median\n",
        "median = df['Age'].median()\n",
        "print('median',median)\n",
        "# Calculating the standard deviation\n",
        "std = df['Age'].std()\n",
        "print('standard deviation',std)"
      ],
      "metadata": {
        "colab": {
          "base_uri": "https://localhost:8080/"
        },
        "id": "ZpktjoIJ4X-k",
        "outputId": "802457ed-e1db-41ab-914f-e22234688f49"
      },
      "execution_count": 33,
      "outputs": [
        {
          "output_type": "stream",
          "name": "stdout",
          "text": [
            "mean 29.69911764705882\n",
            "median 29.69911764705882\n",
            "standard deviation 13.002015226002882\n"
          ]
        }
      ]
    },
    {
      "cell_type": "code",
      "source": [
        "# Plotting histogram\n",
        "plt.hist(df['Age'])\n",
        "plt.show()"
      ],
      "metadata": {
        "colab": {
          "base_uri": "https://localhost:8080/",
          "height": 430
        },
        "id": "bvalcipc5knc",
        "outputId": "555baa8f-8370-4dab-e98e-209e05e1df05"
      },
      "execution_count": 34,
      "outputs": [
        {
          "output_type": "display_data",
          "data": {
            "text/plain": [
              "<Figure size 640x480 with 1 Axes>"
            ],
            "image/png": "[encoded data removed]"
          },
          "metadata": {}
        }
      ]
    },
    {
      "cell_type": "markdown",
      "metadata": {
        "id": "3eRTBGWc0HJt"
      },
      "source": [
        "### Commentary\n",
        "\n",
        "Imputing the median has similar effectiveness to imputing the mean. The variance is reduced, while the mean is slightly lowered. You can once again see that there is a larger mass of data near the center of the distribution."
      ]
    },
    {
      "cell_type": "markdown",
      "metadata": {
        "id": "2NV9SEpk0HJt"
      },
      "source": [
        "## Dropping rows\n",
        "\n",
        "Finally, let's observe the impact on the distribution if we were to simply drop all of the rows that are missing an age value. Then, calculate the mean, median and standard deviation of the ages along with a histogram, as before."
      ]
    },
    {
      "cell_type": "code",
      "execution_count": 35,
      "metadata": {
        "id": "OpiPJaM40HJt"
      },
      "outputs": [],
      "source": [
        "# Dropping of the rows\n",
        "df = df.dropna(subset=['Age'])\n"
      ]
    },
    {
      "cell_type": "code",
      "source": [
        "# Calculating of the statistical measures\n",
        "#Calculating of mean\n",
        "mean = df['Age'].mean()\n",
        "print('mean',mean)\n",
        "#Calculating of median\n",
        "median = df['Age'].median()\n",
        "print('median',median)\n",
        "#Calculating of standard deviation\n",
        "std = df['Age'].std()\n",
        "print('standard deviation',std)\n"
      ],
      "metadata": {
        "colab": {
          "base_uri": "https://localhost:8080/"
        },
        "id": "aKFTKtrz6a42",
        "outputId": "bf5c3b62-cd62-47fe-cd4a-4af944300a70"
      },
      "execution_count": 36,
      "outputs": [
        {
          "output_type": "stream",
          "name": "stdout",
          "text": [
            "mean 29.69911764705882\n",
            "median 29.69911764705882\n",
            "standard deviation 13.002015226002882\n"
          ]
        }
      ]
    },
    {
      "cell_type": "markdown",
      "metadata": {
        "id": "cx3XnuGj0HJt"
      },
      "source": [
        "### Commentary\n",
        "\n",
        "Dropping missing values leaves the distribution and associated measures of centrality unchanged, but at the cost of throwing away data.\n",
        "\n",
        "## Summary\n",
        "\n",
        "In this lab, you briefly practiced some common techniques for dealing with missing data. Moreover, you observed the impact that these methods had on the distribution of the feature itself. When you begin to tune models on your data, these considerations will be an essential process of developing robust and accurate models."
      ]
    }
  ],
  "metadata": {
    "kernelspec": {
      "display_name": "Python 3",
      "language": "python",
      "name": "python3"
    },
    "language_info": {
      "codemirror_mode": {
        "name": "ipython",
        "version": 3
      },
      "file_extension": ".py",
      "mimetype": "text/x-python",
      "name": "python",
      "nbconvert_exporter": "python",
      "pygments_lexer": "ipython3",
      "version": "3.7.4"
    },
    "colab": {
      "provenance": [],
      "include_colab_link": true
    }
  },
  "nbformat": 4,
  "nbformat_minor": 0
}